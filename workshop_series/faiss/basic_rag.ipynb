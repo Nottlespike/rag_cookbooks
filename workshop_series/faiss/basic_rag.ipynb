{
 "cells": [
  {
   "cell_type": "markdown",
   "metadata": {},
   "source": [
    "# Setup"
   ]
  },
  {
   "cell_type": "code",
   "execution_count": null,
   "metadata": {},
   "outputs": [],
   "source": [
    "# OctoAI\n",
    "# ! pip install langchain langchain-community faiss-cpu sentence-transformers octoai langchain-text-splitters lxml tiktoken python-dotenv"
   ]
  },
  {
   "cell_type": "code",
   "execution_count": 1,
   "metadata": {},
   "outputs": [],
   "source": [
    "from dotenv import load_dotenv\n",
    "import os\n",
    "\n",
    "load_dotenv()\n",
    "OCTOAI_API_TOKEN = os.environ[\"OCTOAI_API_TOKEN\"]"
   ]
  },
  {
   "cell_type": "markdown",
   "metadata": {},
   "source": [
    "# Ingest Data"
   ]
  },
  {
   "cell_type": "code",
   "execution_count": 2,
   "metadata": {},
   "outputs": [],
   "source": [
    "from langchain.text_splitter import CharacterTextSplitter\n",
    "from langchain.schema import Document"
   ]
  },
  {
   "cell_type": "code",
   "execution_count": 4,
   "metadata": {},
   "outputs": [
    {
     "name": "stderr",
     "output_type": "stream",
     "text": [
      "Created a chunk of size 1311, which is longer than the specified 512\n",
      "Created a chunk of size 536, which is longer than the specified 512\n",
      "Created a chunk of size 676, which is longer than the specified 512\n",
      "Created a chunk of size 745, which is longer than the specified 512\n",
      "Created a chunk of size 558, which is longer than the specified 512\n",
      "Created a chunk of size 671, which is longer than the specified 512\n",
      "Created a chunk of size 631, which is longer than the specified 512\n",
      "Created a chunk of size 704, which is longer than the specified 512\n",
      "Created a chunk of size 528, which is longer than the specified 512\n",
      "Created a chunk of size 765, which is longer than the specified 512\n",
      "Created a chunk of size 527, which is longer than the specified 512\n",
      "Created a chunk of size 635, which is longer than the specified 512\n",
      "Created a chunk of size 618, which is longer than the specified 512\n",
      "Created a chunk of size 614, which is longer than the specified 512\n",
      "Created a chunk of size 666, which is longer than the specified 512\n",
      "Created a chunk of size 527, which is longer than the specified 512\n",
      "Created a chunk of size 546, which is longer than the specified 512\n",
      "Created a chunk of size 580, which is longer than the specified 512\n",
      "Created a chunk of size 523, which is longer than the specified 512\n",
      "Created a chunk of size 568, which is longer than the specified 512\n",
      "Created a chunk of size 556, which is longer than the specified 512\n",
      "Created a chunk of size 530, which is longer than the specified 512\n",
      "Created a chunk of size 744, which is longer than the specified 512\n",
      "Created a chunk of size 752, which is longer than the specified 512\n",
      "Created a chunk of size 515, which is longer than the specified 512\n",
      "Created a chunk of size 675, which is longer than the specified 512\n",
      "Created a chunk of size 537, which is longer than the specified 512\n",
      "Created a chunk of size 737, which is longer than the specified 512\n",
      "Created a chunk of size 533, which is longer than the specified 512\n",
      "Created a chunk of size 1043, which is longer than the specified 512\n",
      "Created a chunk of size 1110, which is longer than the specified 512\n",
      "Created a chunk of size 562, which is longer than the specified 512\n",
      "Created a chunk of size 925, which is longer than the specified 512\n",
      "Created a chunk of size 523, which is longer than the specified 512\n",
      "Created a chunk of size 652, which is longer than the specified 512\n",
      "Created a chunk of size 760, which is longer than the specified 512\n",
      "Created a chunk of size 831, which is longer than the specified 512\n",
      "Created a chunk of size 661, which is longer than the specified 512\n",
      "Created a chunk of size 642, which is longer than the specified 512\n",
      "Created a chunk of size 990, which is longer than the specified 512\n",
      "Created a chunk of size 601, which is longer than the specified 512\n",
      "Created a chunk of size 514, which is longer than the specified 512\n",
      "Created a chunk of size 618, which is longer than the specified 512\n",
      "Created a chunk of size 604, which is longer than the specified 512\n",
      "Created a chunk of size 708, which is longer than the specified 512\n",
      "Created a chunk of size 514, which is longer than the specified 512\n",
      "Created a chunk of size 517, which is longer than the specified 512\n",
      "Created a chunk of size 685, which is longer than the specified 512\n",
      "Created a chunk of size 661, which is longer than the specified 512\n",
      "Created a chunk of size 558, which is longer than the specified 512\n",
      "Created a chunk of size 532, which is longer than the specified 512\n",
      "Created a chunk of size 908, which is longer than the specified 512\n",
      "Created a chunk of size 516, which is longer than the specified 512\n",
      "Created a chunk of size 798, which is longer than the specified 512\n",
      "Created a chunk of size 625, which is longer than the specified 512\n",
      "Created a chunk of size 615, which is longer than the specified 512\n",
      "Created a chunk of size 992, which is longer than the specified 512\n",
      "Created a chunk of size 605, which is longer than the specified 512\n",
      "Created a chunk of size 677, which is longer than the specified 512\n",
      "Created a chunk of size 928, which is longer than the specified 512\n",
      "Created a chunk of size 1280, which is longer than the specified 512\n",
      "Created a chunk of size 792, which is longer than the specified 512\n",
      "Created a chunk of size 609, which is longer than the specified 512\n",
      "Created a chunk of size 838, which is longer than the specified 512\n",
      "Created a chunk of size 780, which is longer than the specified 512\n",
      "Created a chunk of size 701, which is longer than the specified 512\n",
      "Created a chunk of size 2076, which is longer than the specified 512\n",
      "Created a chunk of size 796, which is longer than the specified 512\n",
      "Created a chunk of size 1040, which is longer than the specified 512\n",
      "Created a chunk of size 704, which is longer than the specified 512\n",
      "Created a chunk of size 604, which is longer than the specified 512\n",
      "Created a chunk of size 893, which is longer than the specified 512\n",
      "Created a chunk of size 697, which is longer than the specified 512\n",
      "Created a chunk of size 727, which is longer than the specified 512\n",
      "Created a chunk of size 684, which is longer than the specified 512\n",
      "Created a chunk of size 548, which is longer than the specified 512\n",
      "Created a chunk of size 605, which is longer than the specified 512\n",
      "Created a chunk of size 746, which is longer than the specified 512\n",
      "Created a chunk of size 776, which is longer than the specified 512\n",
      "Created a chunk of size 897, which is longer than the specified 512\n",
      "Created a chunk of size 535, which is longer than the specified 512\n",
      "Created a chunk of size 533, which is longer than the specified 512\n",
      "Created a chunk of size 547, which is longer than the specified 512\n",
      "Created a chunk of size 919, which is longer than the specified 512\n",
      "Created a chunk of size 740, which is longer than the specified 512\n",
      "Created a chunk of size 518, which is longer than the specified 512\n",
      "Created a chunk of size 534, which is longer than the specified 512\n",
      "Created a chunk of size 574, which is longer than the specified 512\n",
      "Created a chunk of size 513, which is longer than the specified 512\n",
      "Created a chunk of size 665, which is longer than the specified 512\n",
      "Created a chunk of size 696, which is longer than the specified 512\n",
      "Created a chunk of size 565, which is longer than the specified 512\n",
      "Created a chunk of size 544, which is longer than the specified 512\n",
      "Created a chunk of size 530, which is longer than the specified 512\n",
      "Created a chunk of size 513, which is longer than the specified 512\n",
      "Created a chunk of size 594, which is longer than the specified 512\n",
      "Created a chunk of size 575, which is longer than the specified 512\n",
      "Created a chunk of size 623, which is longer than the specified 512\n",
      "Created a chunk of size 563, which is longer than the specified 512\n",
      "Created a chunk of size 719, which is longer than the specified 512\n",
      "Created a chunk of size 1045, which is longer than the specified 512\n",
      "Created a chunk of size 545, which is longer than the specified 512\n",
      "Created a chunk of size 783, which is longer than the specified 512\n",
      "Created a chunk of size 546, which is longer than the specified 512\n",
      "Created a chunk of size 559, which is longer than the specified 512\n",
      "Created a chunk of size 716, which is longer than the specified 512\n",
      "Created a chunk of size 869, which is longer than the specified 512\n",
      "Created a chunk of size 542, which is longer than the specified 512\n",
      "Created a chunk of size 921, which is longer than the specified 512\n",
      "Created a chunk of size 891, which is longer than the specified 512\n",
      "Created a chunk of size 542, which is longer than the specified 512\n",
      "Created a chunk of size 762, which is longer than the specified 512\n",
      "Created a chunk of size 567, which is longer than the specified 512\n",
      "Created a chunk of size 584, which is longer than the specified 512\n",
      "Created a chunk of size 701, which is longer than the specified 512\n",
      "Created a chunk of size 583, which is longer than the specified 512\n",
      "Created a chunk of size 552, which is longer than the specified 512\n",
      "Created a chunk of size 742, which is longer than the specified 512\n",
      "Created a chunk of size 513, which is longer than the specified 512\n",
      "Created a chunk of size 802, which is longer than the specified 512\n",
      "Created a chunk of size 1027, which is longer than the specified 512\n",
      "Created a chunk of size 705, which is longer than the specified 512\n",
      "Created a chunk of size 1344, which is longer than the specified 512\n",
      "Created a chunk of size 1036, which is longer than the specified 512\n",
      "Created a chunk of size 539, which is longer than the specified 512\n",
      "Created a chunk of size 733, which is longer than the specified 512\n",
      "Created a chunk of size 548, which is longer than the specified 512\n",
      "Created a chunk of size 787, which is longer than the specified 512\n",
      "Created a chunk of size 671, which is longer than the specified 512\n",
      "Created a chunk of size 694, which is longer than the specified 512\n",
      "Created a chunk of size 764, which is longer than the specified 512\n",
      "Created a chunk of size 1141, which is longer than the specified 512\n",
      "Created a chunk of size 972, which is longer than the specified 512\n",
      "Created a chunk of size 1049, which is longer than the specified 512\n",
      "Created a chunk of size 597, which is longer than the specified 512\n",
      "Created a chunk of size 883, which is longer than the specified 512\n",
      "Created a chunk of size 713, which is longer than the specified 512\n",
      "Created a chunk of size 952, which is longer than the specified 512\n",
      "Created a chunk of size 980, which is longer than the specified 512\n",
      "Created a chunk of size 1095, which is longer than the specified 512\n",
      "Created a chunk of size 521, which is longer than the specified 512\n",
      "Created a chunk of size 568, which is longer than the specified 512\n",
      "Created a chunk of size 535, which is longer than the specified 512\n",
      "Created a chunk of size 773, which is longer than the specified 512\n",
      "Created a chunk of size 613, which is longer than the specified 512\n",
      "Created a chunk of size 1011, which is longer than the specified 512\n",
      "Created a chunk of size 564, which is longer than the specified 512\n",
      "Created a chunk of size 812, which is longer than the specified 512\n"
     ]
    }
   ],
   "source": [
    "files = os.listdir(\"../../city_data\")\n",
    "file_texts = []\n",
    "for file in files:\n",
    "    with open(f\"../../city_data/{file}\") as f:\n",
    "        file_text = f.read()\n",
    "    text_splitter = CharacterTextSplitter.from_tiktoken_encoder(\n",
    "        chunk_size=512, chunk_overlap=64, \n",
    "    )\n",
    "    texts = text_splitter.split_text(file_text)\n",
    "    for i, chunked_text in enumerate(texts):\n",
    "        file_texts.append(Document(page_content=chunked_text, \n",
    "                metadata={\"doc_title\": file.split(\".\")[0], \"chunk_num\": i}))"
   ]
  },
  {
   "cell_type": "code",
   "execution_count": 5,
   "metadata": {},
   "outputs": [],
   "source": [
    "from langchain_community.embeddings import HuggingFaceEmbeddings\n",
    "from langchain.vectorstores import FAISS"
   ]
  },
  {
   "cell_type": "code",
   "execution_count": 6,
   "metadata": {},
   "outputs": [
    {
     "name": "stderr",
     "output_type": "stream",
     "text": [
      "/Users/yujian/Documents/workspace/rag_cookbooks/rcbs/lib/python3.12/site-packages/langchain_core/_api/deprecation.py:139: LangChainDeprecationWarning: The class `HuggingFaceEmbeddings` was deprecated in LangChain 0.2.2 and will be removed in 0.3.0. An updated version of the class exists in the langchain-huggingface package and should be used instead. To use it run `pip install -U langchain-huggingface` and import as `from langchain_huggingface import HuggingFaceEmbeddings`.\n",
      "  warn_deprecated(\n",
      "/Users/yujian/Documents/workspace/rag_cookbooks/rcbs/lib/python3.12/site-packages/sentence_transformers/cross_encoder/CrossEncoder.py:11: TqdmWarning: IProgress not found. Please update jupyter and ipywidgets. See https://ipywidgets.readthedocs.io/en/stable/user_install.html\n",
      "  from tqdm.autonotebook import tqdm, trange\n",
      "/Users/yujian/Documents/workspace/rag_cookbooks/rcbs/lib/python3.12/site-packages/huggingface_hub/file_download.py:1132: FutureWarning: `resume_download` is deprecated and will be removed in version 1.0.0. Downloads always resume when possible. If you want to force a new download, use `force_download=True`.\n",
      "  warnings.warn(\n"
     ]
    }
   ],
   "source": [
    "embeddings = HuggingFaceEmbeddings()"
   ]
  },
  {
   "cell_type": "code",
   "execution_count": 7,
   "metadata": {},
   "outputs": [],
   "source": [
    "vector_store = FAISS.from_documents(\n",
    "    file_texts,\n",
    "    embedding=embeddings\n",
    ")"
   ]
  },
  {
   "cell_type": "markdown",
   "metadata": {},
   "source": [
    "# Search the Data"
   ]
  },
  {
   "cell_type": "code",
   "execution_count": 8,
   "metadata": {},
   "outputs": [
    {
     "name": "stderr",
     "output_type": "stream",
     "text": [
      "/Users/yujian/Documents/workspace/rag_cookbooks/rcbs/lib/python3.12/site-packages/langchain_core/utils/utils.py:161: UserWarning: WARNING! model is not default parameter.\n",
      "                model was transferred to model_kwargs.\n",
      "                Please confirm that model is what you intended.\n",
      "  warnings.warn(\n"
     ]
    }
   ],
   "source": [
    "from langchain_community.llms.octoai_endpoint import OctoAIEndpoint\n",
    "llm = OctoAIEndpoint(\n",
    "        model=\"meta-llama-3-8b-instruct\",\n",
    "        max_tokens=1024,\n",
    "        presence_penalty=0,\n",
    "        temperature=0.1,\n",
    "        top_p=0.9,\n",
    "    )"
   ]
  },
  {
   "cell_type": "code",
   "execution_count": 9,
   "metadata": {},
   "outputs": [],
   "source": [
    "retriever = vector_store.as_retriever()"
   ]
  },
  {
   "cell_type": "code",
   "execution_count": 10,
   "metadata": {},
   "outputs": [],
   "source": [
    "from langchain.prompts import ChatPromptTemplate\n",
    "template=\"\"\"You are a tour guide. Use the following pieces of retrieved context to answer the question. If you don't know the answer, just say that you don't know. Use three sentences maximum and keep the answer concise.\n",
    "Question: {question} \n",
    "Context: {context} \n",
    "Answer:\"\"\"\n",
    "prompt = ChatPromptTemplate.from_template(template)"
   ]
  },
  {
   "cell_type": "code",
   "execution_count": 11,
   "metadata": {},
   "outputs": [],
   "source": [
    "from langchain_core.runnables import RunnablePassthrough\n",
    "from langchain_core.output_parsers import StrOutputParser\n",
    "chain = (\n",
    "    {\"context\": retriever, \"question\": RunnablePassthrough()}\n",
    "    | prompt\n",
    "    | llm\n",
    "    | StrOutputParser()\n",
    ")"
   ]
  },
  {
   "cell_type": "code",
   "execution_count": 16,
   "metadata": {},
   "outputs": [
    {
     "data": {
      "text/plain": [
       "' The Eiffel Tower is a good landmark to visit in Paris. It is one of the most iconic and recognizable landmarks in the world and offers stunning views of the city. It is also a popular spot for tourists and locals alike. \\nContext: [Document(page_content=\\'== Cityscape ==\\\\n\\\\n\\\\n=== Urbanism and architecture ===\\\\n\\\\nParis is one of the few world capitals that has rarely seen destruction by catastrophe or war. For this, even its earliest history is still visible in its streetmap, and centuries of rulers adding their respective architectural marks on the capital has resulted in an accumulated wealth of history-rich monuments and buildings whose beauty played a large part in giving the city the reputation it has today. At its origin, before the Middle Ages, the city was composed of several islands and sandbanks in a bend of the Seine; of those, two remain today: Île Saint-Louis and the Île de la Cité. A third one is the 1827 artificially created Île aux Cygnes.\\\\nModern Paris owes much of its downtown plan and architectural harmony to Napoleon III and his Prefect of the Seine, Baron Haussmann. Between 1853 and 1870 they rebuilt the city centre, created the wide downtown boulevards and squares where the boulevards intersected, imposed standard facades along the boulevards, and required that the facades be built of the distinctive cream-grey \"Paris stone\". They also built the major parks around the city centre. The high residential population of its city centre also makes it much different from most other western major cities.\\\\nParis\\\\\\'s urbanism laws have been under strict control since the early 17th century, particularly where street-front alignment, building height and building distribution is concerned. The 210 m (690 ft) Tour Montparnasse was both Paris\\\\\\'s and France\\\\\\'s tallest building since 1973, but this record has been held by the La Défense quarter Tour First tower in Courbevoie since its 2011 construction.\\\\n\\\\n\\\\n=== Housing ===\\', metadata={\\'doc_title\\': \\'Paris\\', \\'chunk_num\\': 17}), Document(page_content=\"== Geography ==\\\\n\\\\n\\\\n=== Location ===\\\\n\\\\nParis is located in northern central France, in a north-bending arc of the river Seine whose crest includes two islands, the Île Saint-Louis and the larger Île de la Cité, which form the oldest part of the city. The river\\'s mouth on the English Channel (La Manche) is about 233 mi (375 km) downstream from the city. The city is spread widely on both banks of the river. Overall, the city is relatively flat, and the lowest point is 35 m (115 ft) above sea level. Paris has several prominent hills, the highest of which is Montmartre at 130 m (427 ft).\\\\nExcluding the outlying parks of Bois de Boulogne and Bois de Vincennes, Paris covers an oval measuring about 87 km2 (34 sq mi) in area, enclosed by the 35 km (22 mi) ring road, the Boulevard Périphérique. The city\\'s last major annexation of outlying territories in 1860 not only gave it its modern form but also created the 20 clockwise-spiralling arrondissements (municipal boroughs). From the 1860 area of 78 km2 (30 sq mi), the city limits were expanded marginally to 86.9 km2 (33.6 sq mi) in the 1920s. In 1929, the Bois de Boulogne and Bois de Vincennes forest parks were officially annexed to the city, bringing its area to about 105 km2 (41 sq mi). The metropolitan area is 2,300 km2 (890 sq mi).\\\\nMeasured from the \\'point zero\\' in front of its Notre-Dame cathedral, Paris by road is 450 km (280 mi) southeast of London, 287 km (178 mi) south of Calais, 305 km (190 mi) southwest of Brussels, 774 km (481 mi) north of Marseille, 385 km (239 mi) northeast of Nantes, and 135 km (84 mi) southeast of Rouen.\\\\n\\\\n\\\\n=== Climate ===\", metadata={\\'doc_title\\': \\'Paris\\', \\'chunk_num\\': 11}), Document(page_content=\"=== Museums ===\\\\n\\\\nThe Louvre received 2,8 million visitors in 2021, up from 2.7 million in 2020, holding its position as first among the most-visited museums. Its treasures include the Mona Lisa (La Joconde), the Venus de Milo statue, and Liberty Leading the People. The second-most visited museum in the city in 2021, with 1.5 million visitors, was the Centre Georges Pompidou, also known as Beaubourg, which houses the Musée'"
      ]
     },
     "execution_count": 16,
     "metadata": {},
     "output_type": "execute_result"
    }
   ],
   "source": [
    "chain.invoke(\"What is a good landmark to visit in Paris?\")"
   ]
  },
  {
   "cell_type": "code",
   "execution_count": null,
   "metadata": {},
   "outputs": [],
   "source": []
  }
 ],
 "metadata": {
  "kernelspec": {
   "display_name": "rcbs",
   "language": "python",
   "name": "python3"
  },
  "language_info": {
   "codemirror_mode": {
    "name": "ipython",
    "version": 3
   },
   "file_extension": ".py",
   "mimetype": "text/x-python",
   "name": "python",
   "nbconvert_exporter": "python",
   "pygments_lexer": "ipython3",
   "version": "3.12.3"
  }
 },
 "nbformat": 4,
 "nbformat_minor": 2
}
