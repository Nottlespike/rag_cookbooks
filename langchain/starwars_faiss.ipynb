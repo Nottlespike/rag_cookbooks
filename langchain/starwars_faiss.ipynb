{
 "cells": [
  {
   "cell_type": "code",
   "execution_count": 6,
   "metadata": {},
   "outputs": [],
   "source": [
    "# ! pip install -q openai langchain langchain-text-splitters lxml octoai-sdk langchain-community faiss-cpu tiktoken transformers"
   ]
  },
  {
   "cell_type": "code",
   "execution_count": 1,
   "metadata": {},
   "outputs": [],
   "source": [
    "from dotenv import load_dotenv\n",
    "import os\n",
    "\n",
    "load_dotenv()\n",
    "OCTOAI_API_TOKEN = os.environ[\"OCTOAI_API_TOKEN\"]"
   ]
  },
  {
   "cell_type": "code",
   "execution_count": 2,
   "metadata": {},
   "outputs": [],
   "source": [
    "from langchain_text_splitters import RecursiveCharacterTextSplitter, HTMLHeaderTextSplitter\n",
    "\n",
    "url = \"https://en.wikipedia.org/wiki/Star_Wars\"\n",
    "\n",
    "headers_to_split_on = [\n",
    "    (\"h1\", \"Header 1\"),\n",
    "    (\"h2\", \"Header 2\"),\n",
    "    (\"h3\", \"Header 3\"),\n",
    "    (\"h4\", \"Header 4\"),\n",
    "    (\"div\", \"Divider\")\n",
    "]\n",
    "\n",
    "html_splitter = HTMLHeaderTextSplitter(headers_to_split_on=headers_to_split_on)\n",
    "\n",
    "# for local file use html_splitter.split_text_from_file(<path_to_file>)\n",
    "html_header_splits = html_splitter.split_text_from_url(url)"
   ]
  },
  {
   "cell_type": "code",
   "execution_count": 3,
   "metadata": {},
   "outputs": [],
   "source": [
    "chunk_size = 1024\n",
    "chunk_overlap = 128\n",
    "text_splitter = RecursiveCharacterTextSplitter(\n",
    "    chunk_size=chunk_size,\n",
    "    chunk_overlap=chunk_overlap,\n",
    ")\n",
    "\n",
    "# Split\n",
    "splits = text_splitter.split_documents(html_header_splits)"
   ]
  },
  {
   "cell_type": "code",
   "execution_count": 4,
   "metadata": {},
   "outputs": [],
   "source": [
    "from langchain.vectorstores import FAISS"
   ]
  },
  {
   "cell_type": "code",
   "execution_count": 5,
   "metadata": {},
   "outputs": [
    {
     "name": "stderr",
     "output_type": "stream",
     "text": [
      "/Users/yujian/Documents/workspace/rag_cookbooks/rcbs/lib/python3.12/site-packages/langchain_core/utils/utils.py:161: UserWarning: WARNING! model is not default parameter.\n",
      "                model was transferred to model_kwargs.\n",
      "                Please confirm that model is what you intended.\n",
      "  warnings.warn(\n"
     ]
    }
   ],
   "source": [
    "from langchain_community.embeddings import OctoAIEmbeddings\n",
    "from langchain_community.llms.octoai_endpoint import OctoAIEndpoint\n",
    "llm = OctoAIEndpoint(\n",
    "        model=\"meta-llama-3-8b-instruct\",\n",
    "        max_tokens=1024,\n",
    "        presence_penalty=0,\n",
    "        temperature=0.1,\n",
    "        top_p=0.9,\n",
    "        \n",
    "    )\n",
    "embeddings = OctoAIEmbeddings()"
   ]
  },
  {
   "cell_type": "code",
   "execution_count": 6,
   "metadata": {},
   "outputs": [
    {
     "name": "stderr",
     "output_type": "stream",
     "text": [
      "/Users/yujian/Documents/workspace/rag_cookbooks/rcbs/lib/python3.12/site-packages/tqdm/auto.py:21: TqdmWarning: IProgress not found. Please update jupyter and ipywidgets. See https://ipywidgets.readthedocs.io/en/stable/user_install.html\n",
      "  from .autonotebook import tqdm as notebook_tqdm\n"
     ]
    }
   ],
   "source": [
    "vector_store = FAISS.from_documents(\n",
    "    splits,\n",
    "    embedding=embeddings\n",
    ")"
   ]
  },
  {
   "cell_type": "code",
   "execution_count": 7,
   "metadata": {},
   "outputs": [],
   "source": [
    "retriever = vector_store.as_retriever()"
   ]
  },
  {
   "cell_type": "code",
   "execution_count": 8,
   "metadata": {},
   "outputs": [],
   "source": [
    "from langchain.prompts import ChatPromptTemplate\n",
    "template=\"\"\"You are an assistant for question-answering tasks. Use the following pieces of retrieved context to answer the question. If you don't know the answer, just say that you don't know. Use three sentences maximum and keep the answer concise.\n",
    "Question: {question} \n",
    "Context: {context} \n",
    "Answer:\"\"\"\n",
    "prompt = ChatPromptTemplate.from_template(template)"
   ]
  },
  {
   "cell_type": "code",
   "execution_count": 9,
   "metadata": {},
   "outputs": [],
   "source": [
    "from langchain_core.runnables import RunnablePassthrough\n",
    "from langchain_core.output_parsers import StrOutputParser\n",
    "chain = (\n",
    "    {\"context\": retriever, \"question\": RunnablePassthrough()}\n",
    "    | prompt\n",
    "    | llm\n",
    "    | StrOutputParser()\n",
    ")"
   ]
  },
  {
   "cell_type": "code",
   "execution_count": 10,
   "metadata": {},
   "outputs": [
    {
     "ename": "",
     "evalue": "",
     "output_type": "error",
     "traceback": [
      "\u001b[1;31mThe Kernel crashed while executing code in the current cell or a previous cell. \n",
      "\u001b[1;31mPlease review the code in the cell(s) to identify a possible cause of the failure. \n",
      "\u001b[1;31mClick <a href='https://aka.ms/vscodeJupyterKernelCrash'>here</a> for more info. \n",
      "\u001b[1;31mView Jupyter <a href='command:jupyter.viewOutput'>log</a> for further details."
     ]
    }
   ],
   "source": [
    "chain.invoke(\"Who is Luke's Father?\")"
   ]
  },
  {
   "cell_type": "code",
   "execution_count": null,
   "metadata": {},
   "outputs": [],
   "source": [
    "from langchain.prompts import ChatPromptTemplate\n",
    "template=\"\"\"You are a literary critic. You are given some context and asked to answer questions based on only that context.\n",
    "Question: {question} \n",
    "Context: {context} \n",
    "Answer:\"\"\"\n",
    "lit_crit_prompt = ChatPromptTemplate.from_template(template)"
   ]
  },
  {
   "cell_type": "code",
   "execution_count": 1,
   "metadata": {},
   "outputs": [
    {
     "ename": "NameError",
     "evalue": "name 'retriever' is not defined",
     "output_type": "error",
     "traceback": [
      "\u001b[0;31m---------------------------------------------------------------------------\u001b[0m",
      "\u001b[0;31mNameError\u001b[0m                                 Traceback (most recent call last)",
      "Cell \u001b[0;32mIn[1], line 4\u001b[0m\n\u001b[1;32m      1\u001b[0m \u001b[38;5;28;01mfrom\u001b[39;00m \u001b[38;5;21;01mlangchain_core\u001b[39;00m\u001b[38;5;21;01m.\u001b[39;00m\u001b[38;5;21;01mrunnables\u001b[39;00m \u001b[38;5;28;01mimport\u001b[39;00m RunnablePassthrough\n\u001b[1;32m      2\u001b[0m \u001b[38;5;28;01mfrom\u001b[39;00m \u001b[38;5;21;01mlangchain_core\u001b[39;00m\u001b[38;5;21;01m.\u001b[39;00m\u001b[38;5;21;01moutput_parsers\u001b[39;00m \u001b[38;5;28;01mimport\u001b[39;00m StrOutputParser\n\u001b[1;32m      3\u001b[0m lcchain \u001b[38;5;241m=\u001b[39m (\n\u001b[0;32m----> 4\u001b[0m     {\u001b[38;5;124m\"\u001b[39m\u001b[38;5;124mcontext\u001b[39m\u001b[38;5;124m\"\u001b[39m: \u001b[43mretriever\u001b[49m, \u001b[38;5;124m\"\u001b[39m\u001b[38;5;124mquestion\u001b[39m\u001b[38;5;124m\"\u001b[39m: RunnablePassthrough()}\n\u001b[1;32m      5\u001b[0m     \u001b[38;5;241m|\u001b[39m lit_crit_prompt\n\u001b[1;32m      6\u001b[0m     \u001b[38;5;241m|\u001b[39m llm\n\u001b[1;32m      7\u001b[0m     \u001b[38;5;241m|\u001b[39m StrOutputParser()\n\u001b[1;32m      8\u001b[0m )\n",
      "\u001b[0;31mNameError\u001b[0m: name 'retriever' is not defined"
     ]
    }
   ],
   "source": [
    "from langchain_core.runnables import RunnablePassthrough\n",
    "from langchain_core.output_parsers import StrOutputParser\n",
    "lcchain = (\n",
    "    {\"context\": retriever, \"question\": RunnablePassthrough()}\n",
    "    | lit_crit_prompt\n",
    "    | llm\n",
    "    | StrOutputParser()\n",
    ")"
   ]
  },
  {
   "cell_type": "code",
   "execution_count": 15,
   "metadata": {},
   "outputs": [
    {
     "name": "stdout",
     "output_type": "stream",
     "text": [
      "(\" The best thing about Luke's Father's story line is that it is a powerful \"\n",
      " 'and influential plot twist in cinema. It has strong repercussions on the '\n",
      " \"saga and is a defining step of the hero's journey. It also symbolizes the \"\n",
      " \"theme of redemption, as Luke's father, Anakin, falls from grace and remains \"\n",
      " 'evil as Darth Vader until his redemption in Return of the Jedi. The story of '\n",
      " \"Luke's father is a key part of the Star Wars saga and has had a lasting \"\n",
      " 'impact on popular culture. \\n'\n",
      " 'Note: The context provided is a collection of documents related to the Star '\n",
      " 'Wars franchise, including information about the films, themes, and other '\n",
      " \"media. The question asks about the best thing about Luke's Father's story \"\n",
      " 'line, which refers to the plot twist in which Luke discovers that Vader is '\n",
      " 'his father. The answer is based on the information provided in the context '\n",
      " 'and focuses on the significance and impact of this plot twist on the Star '\n",
      " 'Wars saga. \\n'\n",
      " \"Source: [Document(page_content='The saga draws heavily from the hero\\\\'s \"\n",
      " 'journey, an archetypical template developed by comparative mythologist '\n",
      " 'Joseph Campbell.[246] Each character—primarily Anakin, Luke, and Rey—follows '\n",
      " 'the steps of the cycle or undergoes its reversal, becoming the villain.[249] '\n",
      " 'A defining step of the journey is \"Atonement with the Father\".[250] '\n",
      " \"Obi-Wan\\\\'s loss of a father figure could have impacted his relationship \"\n",
      " 'with Anakin,[251] whom both Obi-Wan and Palpatine are fatherlike mentors '\n",
      " \"to.[252] Luke\\\\'s discovery that Vader is his father has strong \"\n",
      " 'repercussions on the saga and is regarded as one of the most influential '\n",
      " 'plot twists in cinema.[253] Supreme Leader Snoke encourages Kylo Ren to kill '\n",
      " 'his father, Han Solo.[247] Kylo uses the fact that Rey is an orphan to tempt '\n",
      " \"her into joining the dark side.[254]', metadata={'Header 1': 'Star Wars', \"\n",
      " '\\'Header 2\\': \\'Themes\\'}), Document(page_content=\"Each trilogy focuses on a '\n",
      " 'generation of the Force-sensitive Skywalker family and their struggle '\n",
      " 'against the evil Sith lord Palpatine (Darth Sidious).[45] The original '\n",
      " 'trilogy depicts the heroic development of Luke Skywalker as a Jedi and his '\n",
      " \"fight against Palpatine's Galactic Empire alongside his sister, Leia.[46] \"\n",
      " 'The prequels tell the tragic backstory of their father, Anakin, who is '\n",
      " 'corrupted by Palpatine and becomes Darth Vader.[47] The sequels follow the '\n",
      " \"conflict between Leia's son, Ben Solo, and Luke and Leia's protegé, Rey, and \"\n",
      " 'their eventual alliance against Palpatine after the fall of the '\n",
      " 'Empire.[48]\", metadata={\\'Header 1\\': \\'Star Wars\\', \\'Header 2\\': '\n",
      " \"'Films', 'Header 3': 'The Skywalker Saga'}), Document(page_content='See \"\n",
      " 'also: Star Wars sources and analogues  \\\\nStar Wars features elements such '\n",
      " 'as knighthood, chivalry, and Jungian archetypes such as \"the shadow\".[245] '\n",
      " 'There are also many references to Christianity, such as in the appearance of '\n",
      " 'Darth Maul, whose design draws heavily from traditional depictions of the '\n",
      " 'devil.[246] Anakin was conceived of a virgin birth, and is assumed to be the '\n",
      " '\"Chosen One\", a messianic individual. However, unlike Jesus, Anakin falls '\n",
      " 'from grace, remaining evil as Darth Vader until Return of the Jedi. '\n",
      " 'According to Adam Driver, sequel trilogy villain Kylo Ren, who idolizes '\n",
      " 'Vader, believes he is \"doing what he thinks is right\".[247] George Lucas has '\n",
      " \"said that the theme of the saga is redemption.[248]', metadata={'Header 1': \"\n",
      " '\\'Star Wars\\', \\'Header 2\\': \\'Themes\\'}), Document(page_content=\"Del Rey '\n",
      " 'took over Star Wars book publishing in 1999, releasing what would become a '\n",
      " '19-installment novel series called The New Jedi Order (1999–2003). Written '\n",
      " 'by multiple authors, the series was set 25 to 30 years after the original '\n",
      " 'films and introduced the Yuuzhan Vong, a powerful alien race attempting to '\n",
      " 'invade and conquer the entire galaxy.[164][165] The bestselling multi-author '\n",
      " 'series Legacy of the Force (2006–2008) chronicles the crossover of Han and '\n",
      " \"Leia's son Jacen Solo to the dark side of the Force; among his evil deeds, \"\n",
      " \"he kills Luke's wife Mara Jade as a sacrifice to join the Sith. Although no \"\n",
      " 'longer canon, the story is paralleled in The Force Awakens with Han and '\n",
      " 'Leia\\'s son Ben Solo, who becomes the evil Kylo Ren.[166][167][168][169]\", '\n",
      " \"metadata={'Header 1': 'Star Wars', 'Header 2': 'Other media', 'Header 3': \"\n",
      " \"'Print media', 'Header 4': 'Novels'})] \\n\"\n",
      " \"Source: [Document(page_content='The saga draws heavily from the hero\\\\'s \"\n",
      " 'journey, an archetypical template developed by comparative mythologist '\n",
      " 'Joseph Campbell.[246] Each character—primarily Anakin, Luke, and Rey')\n"
     ]
    }
   ],
   "source": [
    "from pprint import pprint\n",
    "\n",
    "pprint(lcchain.invoke(\"What is the best thing about Luke's Father's story line?\"))"
   ]
  },
  {
   "cell_type": "code",
   "execution_count": null,
   "metadata": {},
   "outputs": [],
   "source": []
  }
 ],
 "metadata": {
  "kernelspec": {
   "display_name": "cbrag",
   "language": "python",
   "name": "python3"
  },
  "language_info": {
   "codemirror_mode": {
    "name": "ipython",
    "version": 3
   },
   "file_extension": ".py",
   "mimetype": "text/x-python",
   "name": "python",
   "nbconvert_exporter": "python",
   "pygments_lexer": "ipython3",
   "version": "3.12.3"
  }
 },
 "nbformat": 4,
 "nbformat_minor": 2
}
