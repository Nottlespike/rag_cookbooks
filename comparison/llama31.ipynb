{
 "cells": [
  {
   "cell_type": "markdown",
   "metadata": {},
   "source": [
    "# Setup"
   ]
  },
  {
   "cell_type": "code",
   "execution_count": 1,
   "metadata": {},
   "outputs": [
    {
     "name": "stdout",
     "output_type": "stream",
     "text": [
      "Requirement already satisfied: langchain in /usr/local/python/3.10.13/lib/python3.10/site-packages (0.2.1)\n",
      "Requirement already satisfied: langchain-community in /usr/local/python/3.10.13/lib/python3.10/site-packages (0.2.1)\n",
      "Requirement already satisfied: faiss-cpu in /usr/local/python/3.10.13/lib/python3.10/site-packages (1.8.0)\n",
      "Requirement already satisfied: sentence-transformers in /usr/local/python/3.10.13/lib/python3.10/site-packages (3.0.1)\n",
      "Requirement already satisfied: octoai-sdk in /usr/local/python/3.10.13/lib/python3.10/site-packages (0.10.1)\n",
      "Requirement already satisfied: langchain-text-splitters in /usr/local/python/3.10.13/lib/python3.10/site-packages (0.2.0)\n",
      "Requirement already satisfied: lxml in /usr/local/python/3.10.13/lib/python3.10/site-packages (5.2.2)\n",
      "Requirement already satisfied: tiktoken in /usr/local/python/3.10.13/lib/python3.10/site-packages (0.7.0)\n",
      "Requirement already satisfied: python-dotenv in /usr/local/python/3.10.13/lib/python3.10/site-packages (1.0.1)\n",
      "Requirement already satisfied: openai in /usr/local/python/3.10.13/lib/python3.10/site-packages (1.30.5)\n",
      "Requirement already satisfied: arize-phoenix[evals] in /usr/local/python/3.10.13/lib/python3.10/site-packages (4.5.0)\n",
      "Requirement already satisfied: PyYAML>=5.3 in /home/codespace/.local/lib/python3.10/site-packages (from langchain) (6.0.1)\n",
      "Requirement already satisfied: SQLAlchemy<3,>=1.4 in /usr/local/python/3.10.13/lib/python3.10/site-packages (from langchain) (2.0.30)\n",
      "Requirement already satisfied: aiohttp<4.0.0,>=3.8.3 in /usr/local/python/3.10.13/lib/python3.10/site-packages (from langchain) (3.9.5)\n",
      "Requirement already satisfied: async-timeout<5.0.0,>=4.0.0 in /usr/local/python/3.10.13/lib/python3.10/site-packages (from langchain) (4.0.3)\n",
      "Requirement already satisfied: langchain-core<0.3.0,>=0.2.0 in /usr/local/python/3.10.13/lib/python3.10/site-packages (from langchain) (0.2.3)\n",
      "Requirement already satisfied: langsmith<0.2.0,>=0.1.17 in /usr/local/python/3.10.13/lib/python3.10/site-packages (from langchain) (0.1.67)\n",
      "Requirement already satisfied: numpy<2,>=1 in /home/codespace/.local/lib/python3.10/site-packages (from langchain) (1.26.4)\n",
      "Requirement already satisfied: pydantic<3,>=1 in /usr/local/python/3.10.13/lib/python3.10/site-packages (from langchain) (2.7.2)\n",
      "Requirement already satisfied: requests<3,>=2 in /home/codespace/.local/lib/python3.10/site-packages (from langchain) (2.31.0)\n",
      "Requirement already satisfied: tenacity<9.0.0,>=8.1.0 in /home/codespace/.local/lib/python3.10/site-packages (from langchain) (8.3.0)\n",
      "Requirement already satisfied: dataclasses-json<0.7,>=0.5.7 in /usr/local/python/3.10.13/lib/python3.10/site-packages (from langchain-community) (0.6.6)\n",
      "Requirement already satisfied: transformers<5.0.0,>=4.34.0 in /usr/local/python/3.10.13/lib/python3.10/site-packages (from sentence-transformers) (4.41.2)\n",
      "Requirement already satisfied: tqdm in /usr/local/python/3.10.13/lib/python3.10/site-packages (from sentence-transformers) (4.66.4)\n",
      "Requirement already satisfied: torch>=1.11.0 in /home/codespace/.local/lib/python3.10/site-packages (from sentence-transformers) (2.3.0+cpu)\n",
      "Requirement already satisfied: scikit-learn in /home/codespace/.local/lib/python3.10/site-packages (from sentence-transformers) (1.4.2)\n",
      "Requirement already satisfied: scipy in /home/codespace/.local/lib/python3.10/site-packages (from sentence-transformers) (1.13.0)\n",
      "Requirement already satisfied: huggingface-hub>=0.15.1 in /usr/local/python/3.10.13/lib/python3.10/site-packages (from sentence-transformers) (0.23.2)\n",
      "Requirement already satisfied: Pillow in /home/codespace/.local/lib/python3.10/site-packages (from sentence-transformers) (10.3.0)\n",
      "Requirement already satisfied: boto3<2.0.0,>=1.28.74 in /usr/local/python/3.10.13/lib/python3.10/site-packages (from octoai-sdk) (1.34.117)\n",
      "Requirement already satisfied: chevron>=0.14.0 in /usr/local/python/3.10.13/lib/python3.10/site-packages (from octoai-sdk) (0.14.0)\n",
      "Requirement already satisfied: click<9.0.0,>=8.1.3 in /usr/local/python/3.10.13/lib/python3.10/site-packages (from octoai-sdk) (8.1.7)\n",
      "Requirement already satisfied: fastapi>=0.100.0 in /usr/local/python/3.10.13/lib/python3.10/site-packages (from octoai-sdk) (0.111.0)\n",
      "Requirement already satisfied: httpx<1.0.0,>=0.24.0 in /home/codespace/.local/lib/python3.10/site-packages (from octoai-sdk) (0.27.0)\n",
      "Requirement already satisfied: python-dateutil<3.0.0,>=2.8.2 in /home/codespace/.local/lib/python3.10/site-packages (from octoai-sdk) (2.9.0.post0)\n",
      "Requirement already satisfied: python-multipart>=0.0.6 in /usr/local/python/3.10.13/lib/python3.10/site-packages (from octoai-sdk) (0.0.9)\n",
      "Requirement already satisfied: soundfile>=0.12.1 in /usr/local/python/3.10.13/lib/python3.10/site-packages (from octoai-sdk) (0.12.1)\n",
      "Requirement already satisfied: types-pyyaml<7.0.0.0,>=6.0.12.10 in /usr/local/python/3.10.13/lib/python3.10/site-packages (from octoai-sdk) (6.0.12.20240311)\n",
      "Requirement already satisfied: types-requests<3.0.0.0,>=2.31.0.2 in /usr/local/python/3.10.13/lib/python3.10/site-packages (from octoai-sdk) (2.32.0.20240523)\n",
      "Requirement already satisfied: uvicorn>=0.22.0 in /usr/local/python/3.10.13/lib/python3.10/site-packages (from octoai-sdk) (0.30.0)\n",
      "Requirement already satisfied: regex>=2022.1.18 in /usr/local/python/3.10.13/lib/python3.10/site-packages (from tiktoken) (2024.5.15)\n",
      "Requirement already satisfied: aioitertools in /usr/local/python/3.10.13/lib/python3.10/site-packages (from arize-phoenix[evals]) (0.11.0)\n",
      "Requirement already satisfied: aiosqlite in /usr/local/python/3.10.13/lib/python3.10/site-packages (from arize-phoenix[evals]) (0.20.0)\n",
      "Requirement already satisfied: alembic<2,>=1.3.0 in /usr/local/python/3.10.13/lib/python3.10/site-packages (from arize-phoenix[evals]) (1.13.2)\n",
      "Requirement already satisfied: cachetools in /usr/local/python/3.10.13/lib/python3.10/site-packages (from arize-phoenix[evals]) (5.3.3)\n",
      "Requirement already satisfied: grpcio in /usr/local/python/3.10.13/lib/python3.10/site-packages (from arize-phoenix[evals]) (1.64.1)\n",
      "Requirement already satisfied: hdbscan>=0.8.33 in /usr/local/python/3.10.13/lib/python3.10/site-packages (from arize-phoenix[evals]) (0.8.37)\n",
      "Requirement already satisfied: jinja2 in /home/codespace/.local/lib/python3.10/site-packages (from arize-phoenix[evals]) (3.1.4)\n",
      "Requirement already satisfied: openinference-instrumentation in /usr/local/python/3.10.13/lib/python3.10/site-packages (from arize-phoenix[evals]) (0.1.7)\n",
      "Requirement already satisfied: openinference-instrumentation-langchain>=0.1.12 in /usr/local/python/3.10.13/lib/python3.10/site-packages (from arize-phoenix[evals]) (0.1.20)\n",
      "Requirement already satisfied: openinference-instrumentation-llama-index>=1.2.0 in /usr/local/python/3.10.13/lib/python3.10/site-packages (from arize-phoenix[evals]) (2.0.0)\n",
      "Requirement already satisfied: openinference-instrumentation-openai>=0.1.4 in /usr/local/python/3.10.13/lib/python3.10/site-packages (from arize-phoenix[evals]) (0.1.6)\n",
      "Requirement already satisfied: openinference-semantic-conventions>=0.1.5 in /usr/local/python/3.10.13/lib/python3.10/site-packages (from arize-phoenix[evals]) (0.1.9)\n",
      "Requirement already satisfied: opentelemetry-exporter-otlp in /usr/local/python/3.10.13/lib/python3.10/site-packages (from arize-phoenix[evals]) (1.25.0)\n",
      "Requirement already satisfied: opentelemetry-proto>=1.12.0 in /usr/local/python/3.10.13/lib/python3.10/site-packages (from arize-phoenix[evals]) (1.25.0)\n",
      "Requirement already satisfied: opentelemetry-sdk in /usr/local/python/3.10.13/lib/python3.10/site-packages (from arize-phoenix[evals]) (1.25.0)\n",
      "Requirement already satisfied: opentelemetry-semantic-conventions in /usr/local/python/3.10.13/lib/python3.10/site-packages (from arize-phoenix[evals]) (0.46b0)\n",
      "Requirement already satisfied: pandas in /home/codespace/.local/lib/python3.10/site-packages (from arize-phoenix[evals]) (2.2.2)\n",
      "Requirement already satisfied: protobuf<6.0,>=3.20 in /usr/local/python/3.10.13/lib/python3.10/site-packages (from arize-phoenix[evals]) (4.25.3)\n",
      "Requirement already satisfied: psutil in /home/codespace/.local/lib/python3.10/site-packages (from arize-phoenix[evals]) (5.9.8)\n",
      "Requirement already satisfied: pyarrow in /usr/local/python/3.10.13/lib/python3.10/site-packages (from arize-phoenix[evals]) (16.1.0)\n",
      "Requirement already satisfied: sqlean-py>=3.45.1 in /usr/local/python/3.10.13/lib/python3.10/site-packages (from arize-phoenix[evals]) (3.45.1)\n",
      "Requirement already satisfied: starlette in /usr/local/python/3.10.13/lib/python3.10/site-packages (from arize-phoenix[evals]) (0.37.2)\n",
      "Requirement already satisfied: strawberry-graphql==0.235.0 in /usr/local/python/3.10.13/lib/python3.10/site-packages (from arize-phoenix[evals]) (0.235.0)\n",
      "Requirement already satisfied: typing-extensions>=4.5 in /home/codespace/.local/lib/python3.10/site-packages (from arize-phoenix[evals]) (4.11.0)\n",
      "Requirement already satisfied: umap-learn in /usr/local/python/3.10.13/lib/python3.10/site-packages (from arize-phoenix[evals]) (0.5.6)\n",
      "Requirement already satisfied: wrapt in /usr/local/python/3.10.13/lib/python3.10/site-packages (from arize-phoenix[evals]) (1.16.0)\n",
      "Requirement already satisfied: arize-phoenix-evals>=0.3.0 in /usr/local/python/3.10.13/lib/python3.10/site-packages (from arize-phoenix[evals]) (0.13.0)\n",
      "Requirement already satisfied: graphql-core<3.3.0,>=3.2.0 in /usr/local/python/3.10.13/lib/python3.10/site-packages (from strawberry-graphql==0.235.0->arize-phoenix[evals]) (3.2.3)\n",
      "Requirement already satisfied: anyio<5,>=3.5.0 in /home/codespace/.local/lib/python3.10/site-packages (from openai) (4.3.0)\n",
      "Requirement already satisfied: distro<2,>=1.7.0 in /usr/local/python/3.10.13/lib/python3.10/site-packages (from openai) (1.9.0)\n",
      "Requirement already satisfied: sniffio in /home/codespace/.local/lib/python3.10/site-packages (from openai) (1.3.1)\n",
      "Requirement already satisfied: aiosignal>=1.1.2 in /usr/local/python/3.10.13/lib/python3.10/site-packages (from aiohttp<4.0.0,>=3.8.3->langchain) (1.3.1)\n",
      "Requirement already satisfied: attrs>=17.3.0 in /home/codespace/.local/lib/python3.10/site-packages (from aiohttp<4.0.0,>=3.8.3->langchain) (23.2.0)\n",
      "Requirement already satisfied: frozenlist>=1.1.1 in /usr/local/python/3.10.13/lib/python3.10/site-packages (from aiohttp<4.0.0,>=3.8.3->langchain) (1.4.1)\n",
      "Requirement already satisfied: multidict<7.0,>=4.5 in /usr/local/python/3.10.13/lib/python3.10/site-packages (from aiohttp<4.0.0,>=3.8.3->langchain) (6.0.5)\n",
      "Requirement already satisfied: yarl<2.0,>=1.0 in /usr/local/python/3.10.13/lib/python3.10/site-packages (from aiohttp<4.0.0,>=3.8.3->langchain) (1.9.4)\n",
      "Requirement already satisfied: Mako in /usr/local/python/3.10.13/lib/python3.10/site-packages (from alembic<2,>=1.3.0->arize-phoenix[evals]) (1.3.5)\n",
      "Requirement already satisfied: idna>=2.8 in /home/codespace/.local/lib/python3.10/site-packages (from anyio<5,>=3.5.0->openai) (3.7)\n",
      "Requirement already satisfied: exceptiongroup>=1.0.2 in /home/codespace/.local/lib/python3.10/site-packages (from anyio<5,>=3.5.0->openai) (1.2.1)\n",
      "Requirement already satisfied: botocore<1.35.0,>=1.34.117 in /usr/local/python/3.10.13/lib/python3.10/site-packages (from boto3<2.0.0,>=1.28.74->octoai-sdk) (1.34.117)\n",
      "Requirement already satisfied: jmespath<2.0.0,>=0.7.1 in /usr/local/python/3.10.13/lib/python3.10/site-packages (from boto3<2.0.0,>=1.28.74->octoai-sdk) (1.0.1)\n",
      "Requirement already satisfied: s3transfer<0.11.0,>=0.10.0 in /usr/local/python/3.10.13/lib/python3.10/site-packages (from boto3<2.0.0,>=1.28.74->octoai-sdk) (0.10.1)\n",
      "Requirement already satisfied: marshmallow<4.0.0,>=3.18.0 in /usr/local/python/3.10.13/lib/python3.10/site-packages (from dataclasses-json<0.7,>=0.5.7->langchain-community) (3.21.2)\n",
      "Requirement already satisfied: typing-inspect<1,>=0.4.0 in /usr/local/python/3.10.13/lib/python3.10/site-packages (from dataclasses-json<0.7,>=0.5.7->langchain-community) (0.9.0)\n",
      "Requirement already satisfied: fastapi-cli>=0.0.2 in /usr/local/python/3.10.13/lib/python3.10/site-packages (from fastapi>=0.100.0->octoai-sdk) (0.0.4)\n",
      "Requirement already satisfied: ujson!=4.0.2,!=4.1.0,!=4.2.0,!=4.3.0,!=5.0.0,!=5.1.0,>=4.0.1 in /usr/local/python/3.10.13/lib/python3.10/site-packages (from fastapi>=0.100.0->octoai-sdk) (5.10.0)\n",
      "Requirement already satisfied: orjson>=3.2.1 in /usr/local/python/3.10.13/lib/python3.10/site-packages (from fastapi>=0.100.0->octoai-sdk) (3.10.3)\n",
      "Requirement already satisfied: email_validator>=2.0.0 in /usr/local/python/3.10.13/lib/python3.10/site-packages (from fastapi>=0.100.0->octoai-sdk) (2.1.1)\n",
      "Requirement already satisfied: cython<3,>=0.27 in /usr/local/python/3.10.13/lib/python3.10/site-packages (from hdbscan>=0.8.33->arize-phoenix[evals]) (0.29.37)\n",
      "Requirement already satisfied: joblib>=1.0 in /home/codespace/.local/lib/python3.10/site-packages (from hdbscan>=0.8.33->arize-phoenix[evals]) (1.4.2)\n",
      "Requirement already satisfied: certifi in /home/codespace/.local/lib/python3.10/site-packages (from httpx<1.0.0,>=0.24.0->octoai-sdk) (2024.2.2)\n",
      "Requirement already satisfied: httpcore==1.* in /home/codespace/.local/lib/python3.10/site-packages (from httpx<1.0.0,>=0.24.0->octoai-sdk) (1.0.5)\n",
      "Requirement already satisfied: h11<0.15,>=0.13 in /home/codespace/.local/lib/python3.10/site-packages (from httpcore==1.*->httpx<1.0.0,>=0.24.0->octoai-sdk) (0.14.0)\n",
      "Requirement already satisfied: filelock in /home/codespace/.local/lib/python3.10/site-packages (from huggingface-hub>=0.15.1->sentence-transformers) (3.14.0)\n",
      "Requirement already satisfied: fsspec>=2023.5.0 in /home/codespace/.local/lib/python3.10/site-packages (from huggingface-hub>=0.15.1->sentence-transformers) (2024.3.1)\n",
      "Requirement already satisfied: packaging>=20.9 in /usr/local/python/3.10.13/lib/python3.10/site-packages (from huggingface-hub>=0.15.1->sentence-transformers) (23.2)\n",
      "Requirement already satisfied: MarkupSafe>=2.0 in /home/codespace/.local/lib/python3.10/site-packages (from jinja2->arize-phoenix[evals]) (2.1.5)\n",
      "Requirement already satisfied: jsonpatch<2.0,>=1.33 in /usr/local/python/3.10.13/lib/python3.10/site-packages (from langchain-core<0.3.0,>=0.2.0->langchain) (1.33)\n",
      "Requirement already satisfied: opentelemetry-api in /usr/local/python/3.10.13/lib/python3.10/site-packages (from openinference-instrumentation-langchain>=0.1.12->arize-phoenix[evals]) (1.25.0)\n",
      "Requirement already satisfied: opentelemetry-instrumentation in /usr/local/python/3.10.13/lib/python3.10/site-packages (from openinference-instrumentation-langchain>=0.1.12->arize-phoenix[evals]) (0.46b0)\n",
      "Requirement already satisfied: annotated-types>=0.4.0 in /usr/local/python/3.10.13/lib/python3.10/site-packages (from pydantic<3,>=1->langchain) (0.7.0)\n",
      "Requirement already satisfied: pydantic-core==2.18.3 in /usr/local/python/3.10.13/lib/python3.10/site-packages (from pydantic<3,>=1->langchain) (2.18.3)\n",
      "Requirement already satisfied: six>=1.5 in /home/codespace/.local/lib/python3.10/site-packages (from python-dateutil<3.0.0,>=2.8.2->octoai-sdk) (1.16.0)\n",
      "Requirement already satisfied: charset-normalizer<4,>=2 in /home/codespace/.local/lib/python3.10/site-packages (from requests<3,>=2->langchain) (3.3.2)\n",
      "Requirement already satisfied: urllib3<3,>=1.21.1 in /usr/local/python/3.10.13/lib/python3.10/site-packages (from requests<3,>=2->langchain) (2.0.7)\n",
      "Requirement already satisfied: threadpoolctl>=2.0.0 in /home/codespace/.local/lib/python3.10/site-packages (from scikit-learn->sentence-transformers) (3.5.0)\n",
      "Requirement already satisfied: cffi>=1.0 in /home/codespace/.local/lib/python3.10/site-packages (from soundfile>=0.12.1->octoai-sdk) (1.16.0)\n",
      "Requirement already satisfied: greenlet!=0.4.17 in /usr/local/python/3.10.13/lib/python3.10/site-packages (from SQLAlchemy<3,>=1.4->langchain) (3.0.3)\n",
      "Requirement already satisfied: sympy in /home/codespace/.local/lib/python3.10/site-packages (from torch>=1.11.0->sentence-transformers) (1.12)\n",
      "Requirement already satisfied: networkx in /home/codespace/.local/lib/python3.10/site-packages (from torch>=1.11.0->sentence-transformers) (3.3)\n",
      "Requirement already satisfied: tokenizers<0.20,>=0.19 in /usr/local/python/3.10.13/lib/python3.10/site-packages (from transformers<5.0.0,>=4.34.0->sentence-transformers) (0.19.1)\n",
      "Requirement already satisfied: safetensors>=0.4.1 in /usr/local/python/3.10.13/lib/python3.10/site-packages (from transformers<5.0.0,>=4.34.0->sentence-transformers) (0.4.3)\n",
      "Requirement already satisfied: opentelemetry-exporter-otlp-proto-grpc==1.25.0 in /usr/local/python/3.10.13/lib/python3.10/site-packages (from opentelemetry-exporter-otlp->arize-phoenix[evals]) (1.25.0)\n",
      "Requirement already satisfied: opentelemetry-exporter-otlp-proto-http==1.25.0 in /usr/local/python/3.10.13/lib/python3.10/site-packages (from opentelemetry-exporter-otlp->arize-phoenix[evals]) (1.25.0)\n",
      "Requirement already satisfied: deprecated>=1.2.6 in /usr/local/python/3.10.13/lib/python3.10/site-packages (from opentelemetry-exporter-otlp-proto-grpc==1.25.0->opentelemetry-exporter-otlp->arize-phoenix[evals]) (1.2.14)\n",
      "Requirement already satisfied: googleapis-common-protos~=1.52 in /usr/local/python/3.10.13/lib/python3.10/site-packages (from opentelemetry-exporter-otlp-proto-grpc==1.25.0->opentelemetry-exporter-otlp->arize-phoenix[evals]) (1.63.2)\n",
      "Requirement already satisfied: opentelemetry-exporter-otlp-proto-common==1.25.0 in /usr/local/python/3.10.13/lib/python3.10/site-packages (from opentelemetry-exporter-otlp-proto-grpc==1.25.0->opentelemetry-exporter-otlp->arize-phoenix[evals]) (1.25.0)\n",
      "Requirement already satisfied: importlib-metadata<=7.1,>=6.0 in /usr/local/python/3.10.13/lib/python3.10/site-packages (from opentelemetry-api->openinference-instrumentation-langchain>=0.1.12->arize-phoenix[evals]) (7.1.0)\n",
      "Requirement already satisfied: pytz>=2020.1 in /home/codespace/.local/lib/python3.10/site-packages (from pandas->arize-phoenix[evals]) (2024.1)\n",
      "Requirement already satisfied: tzdata>=2022.7 in /home/codespace/.local/lib/python3.10/site-packages (from pandas->arize-phoenix[evals]) (2024.1)\n",
      "Requirement already satisfied: numba>=0.51.2 in /usr/local/python/3.10.13/lib/python3.10/site-packages (from umap-learn->arize-phoenix[evals]) (0.60.0)\n",
      "Requirement already satisfied: pynndescent>=0.5 in /usr/local/python/3.10.13/lib/python3.10/site-packages (from umap-learn->arize-phoenix[evals]) (0.5.13)\n",
      "Requirement already satisfied: pycparser in /home/codespace/.local/lib/python3.10/site-packages (from cffi>=1.0->soundfile>=0.12.1->octoai-sdk) (2.22)\n",
      "Requirement already satisfied: dnspython>=2.0.0 in /usr/local/python/3.10.13/lib/python3.10/site-packages (from email_validator>=2.0.0->fastapi>=0.100.0->octoai-sdk) (2.6.1)\n",
      "Requirement already satisfied: typer>=0.12.3 in /usr/local/python/3.10.13/lib/python3.10/site-packages (from fastapi-cli>=0.0.2->fastapi>=0.100.0->octoai-sdk) (0.12.3)\n",
      "Requirement already satisfied: jsonpointer>=1.9 in /home/codespace/.local/lib/python3.10/site-packages (from jsonpatch<2.0,>=1.33->langchain-core<0.3.0,>=0.2.0->langchain) (2.4)\n",
      "Requirement already satisfied: llvmlite<0.44,>=0.43.0dev0 in /usr/local/python/3.10.13/lib/python3.10/site-packages (from numba>=0.51.2->umap-learn->arize-phoenix[evals]) (0.43.0)\n",
      "Requirement already satisfied: mypy-extensions>=0.3.0 in /usr/local/python/3.10.13/lib/python3.10/site-packages (from typing-inspect<1,>=0.4.0->dataclasses-json<0.7,>=0.5.7->langchain-community) (1.0.0)\n",
      "Requirement already satisfied: httptools>=0.5.0 in /usr/local/python/3.10.13/lib/python3.10/site-packages (from uvicorn[standard]>=0.12.0->fastapi>=0.100.0->octoai-sdk) (0.6.1)\n",
      "Requirement already satisfied: uvloop!=0.15.0,!=0.15.1,>=0.14.0 in /usr/local/python/3.10.13/lib/python3.10/site-packages (from uvicorn[standard]>=0.12.0->fastapi>=0.100.0->octoai-sdk) (0.19.0)\n",
      "Requirement already satisfied: watchfiles>=0.13 in /usr/local/python/3.10.13/lib/python3.10/site-packages (from uvicorn[standard]>=0.12.0->fastapi>=0.100.0->octoai-sdk) (0.22.0)\n",
      "Requirement already satisfied: websockets>=10.4 in /usr/local/python/3.10.13/lib/python3.10/site-packages (from uvicorn[standard]>=0.12.0->fastapi>=0.100.0->octoai-sdk) (12.0)\n",
      "Requirement already satisfied: setuptools>=16.0 in /usr/local/python/3.10.13/lib/python3.10/site-packages (from opentelemetry-instrumentation->openinference-instrumentation-langchain>=0.1.12->arize-phoenix[evals]) (68.2.2)\n",
      "Requirement already satisfied: mpmath>=0.19 in /home/codespace/.local/lib/python3.10/site-packages (from sympy->torch>=1.11.0->sentence-transformers) (1.3.0)\n",
      "Requirement already satisfied: zipp>=0.5 in /usr/local/python/3.10.13/lib/python3.10/site-packages (from importlib-metadata<=7.1,>=6.0->opentelemetry-api->openinference-instrumentation-langchain>=0.1.12->arize-phoenix[evals]) (3.19.2)\n",
      "Requirement already satisfied: shellingham>=1.3.0 in /usr/local/python/3.10.13/lib/python3.10/site-packages (from typer>=0.12.3->fastapi-cli>=0.0.2->fastapi>=0.100.0->octoai-sdk) (1.5.4)\n",
      "Requirement already satisfied: rich>=10.11.0 in /usr/local/python/3.10.13/lib/python3.10/site-packages (from typer>=0.12.3->fastapi-cli>=0.0.2->fastapi>=0.100.0->octoai-sdk) (13.7.1)\n",
      "Requirement already satisfied: markdown-it-py>=2.2.0 in /usr/local/python/3.10.13/lib/python3.10/site-packages (from rich>=10.11.0->typer>=0.12.3->fastapi-cli>=0.0.2->fastapi>=0.100.0->octoai-sdk) (3.0.0)\n",
      "Requirement already satisfied: pygments<3.0.0,>=2.13.0 in /home/codespace/.local/lib/python3.10/site-packages (from rich>=10.11.0->typer>=0.12.3->fastapi-cli>=0.0.2->fastapi>=0.100.0->octoai-sdk) (2.18.0)\n",
      "Requirement already satisfied: mdurl~=0.1 in /usr/local/python/3.10.13/lib/python3.10/site-packages (from markdown-it-py>=2.2.0->rich>=10.11.0->typer>=0.12.3->fastapi-cli>=0.0.2->fastapi>=0.100.0->octoai-sdk) (0.1.2)\n",
      "\n",
      "\u001b[1m[\u001b[0m\u001b[34;49mnotice\u001b[0m\u001b[1;39;49m]\u001b[0m\u001b[39;49m A new release of pip is available: \u001b[0m\u001b[31;49m24.0\u001b[0m\u001b[39;49m -> \u001b[0m\u001b[32;49m24.2\u001b[0m\n",
      "\u001b[1m[\u001b[0m\u001b[34;49mnotice\u001b[0m\u001b[1;39;49m]\u001b[0m\u001b[39;49m To update, run: \u001b[0m\u001b[32;49mpython3 -m pip install --upgrade pip\u001b[0m\n"
     ]
    }
   ],
   "source": [
    "! pip install langchain langchain-community faiss-cpu sentence-transformers octoai-sdk langchain-text-splitters lxml tiktoken python-dotenv 'arize-phoenix[evals]' openai"
   ]
  },
  {
   "cell_type": "code",
   "execution_count": 2,
   "metadata": {},
   "outputs": [],
   "source": [
    "from dotenv import load_dotenv\n",
    "import os\n",
    "\n",
    "load_dotenv()\n",
    "OCTOAI_API_TOKEN = os.environ[\"OCTOAI_API_TOKEN\"]\n",
    "OPENAI_API_KEY = os.environ[\"OPENAI_API_KEY\"]"
   ]
  },
  {
   "cell_type": "code",
   "execution_count": 3,
   "metadata": {},
   "outputs": [
    {
     "name": "stderr",
     "output_type": "stream",
     "text": [
      "/home/codespace/.python/current/lib/python3.10/site-packages/tqdm/auto.py:21: TqdmWarning: IProgress not found. Please update jupyter and ipywidgets. See https://ipywidgets.readthedocs.io/en/stable/user_install.html\n",
      "  from .autonotebook import tqdm as notebook_tqdm\n",
      "E0809 17:08:10.109394985   51825 chttp2_server.cc:1097]                UNKNOWN:No address added out of total 1 resolved for '[::]:4317' {created_time:\"2024-08-09T17:08:10.109290551+00:00\", children:[UNKNOWN:Failed to add any wildcard listeners {created_time:\"2024-08-09T17:08:10.109282636+00:00\", children:[UNKNOWN:Unable to configure socket {created_time:\"2024-08-09T17:08:10.109102229+00:00\", fd:89, children:[UNKNOWN:Address already in use {created_time:\"2024-08-09T17:08:10.109080108+00:00\", errno:98, os_error:\"Address already in use\", syscall:\"bind\"}]}, UNKNOWN:Unable to configure socket {fd:89, created_time:\"2024-08-09T17:08:10.10927949+00:00\", children:[UNKNOWN:Address already in use {created_time:\"2024-08-09T17:08:10.109272216+00:00\", errno:98, os_error:\"Address already in use\", syscall:\"bind\"}]}]}]}\n",
      "ERROR:    Traceback (most recent call last):\n",
      "  File \"/home/codespace/.python/current/lib/python3.10/site-packages/starlette/routing.py\", line 732, in lifespan\n",
      "    async with self.lifespan_context(app) as maybe_state:\n",
      "  File \"/home/codespace/.python/current/lib/python3.10/contextlib.py\", line 199, in __aenter__\n",
      "    return await anext(self.gen)\n",
      "  File \"/home/codespace/.python/current/lib/python3.10/site-packages/phoenix/server/app.py\", line 275, in lifespan\n",
      "    async with bulk_inserter as (queue_span, queue_evaluation), GrpcServer(\n",
      "  File \"/home/codespace/.python/current/lib/python3.10/site-packages/phoenix/server/grpc_server.py\", line 80, in __aenter__\n",
      "    server.add_insecure_port(f\"[::]:{get_env_grpc_port()}\")\n",
      "  File \"/home/codespace/.python/current/lib/python3.10/site-packages/grpc/aio/_server.py\", line 102, in add_insecure_port\n",
      "    return _common.validate_port_binding_result(\n",
      "  File \"/home/codespace/.python/current/lib/python3.10/site-packages/grpc/_common.py\", line 181, in validate_port_binding_result\n",
      "    raise RuntimeError(_ERROR_MESSAGE_PORT_BINDING_FAILED % address)\n",
      "RuntimeError: Failed to bind to address [::]:4317; set GRPC_VERBOSITY=debug environment variable to see detailed error message.\n",
      "\n",
      "ERROR:    Application startup failed. Exiting.\n"
     ]
    },
    {
     "name": "stdout",
     "output_type": "stream",
     "text": [
      "🌍 To view the Phoenix app in your browser, visit http://localhost:6006/\n",
      "📖 For more information on how to use Phoenix, check out https://docs.arize.com/phoenix\n"
     ]
    }
   ],
   "source": [
    "import phoenix as px\n",
    "session = px.launch_app()\n",
    "# session = px.launch_app(trace=px.TraceDataset.load(\"5f612e9f-e796-469d-8a5c-16aa2ea234c8\"))"
   ]
  },
  {
   "cell_type": "code",
   "execution_count": 4,
   "metadata": {},
   "outputs": [],
   "source": [
    "from phoenix.trace.langchain import LangChainInstrumentor\n",
    "\n",
    "LangChainInstrumentor().instrument()"
   ]
  },
  {
   "cell_type": "markdown",
   "metadata": {},
   "source": [
    "# Ingest Data"
   ]
  },
  {
   "cell_type": "code",
   "execution_count": 5,
   "metadata": {},
   "outputs": [],
   "source": [
    "from langchain.text_splitter import CharacterTextSplitter\n",
    "from langchain.schema import Document"
   ]
  },
  {
   "cell_type": "code",
   "execution_count": 6,
   "metadata": {},
   "outputs": [],
   "source": [
    "files = os.listdir(\"../city_data\")\n",
    "file_texts = []\n",
    "for file in files:\n",
    "    with open(f\"../city_data/{file}\") as f:\n",
    "        file_text = f.read()\n",
    "    text_splitter = CharacterTextSplitter.from_tiktoken_encoder(\n",
    "        chunk_size=800, chunk_overlap=200, separator=\".\"\n",
    "    )\n",
    "    texts = text_splitter.split_text(file_text)\n",
    "    for i, chunked_text in enumerate(texts):\n",
    "        file_texts.append(Document(page_content=chunked_text, \n",
    "                metadata={\"doc_title\": file.split(\".\")[0], \"chunk_num\": i}))"
   ]
  },
  {
   "cell_type": "code",
   "execution_count": 7,
   "metadata": {},
   "outputs": [],
   "source": [
    "from langchain_community.embeddings import HuggingFaceEmbeddings\n",
    "from langchain.vectorstores import FAISS"
   ]
  },
  {
   "cell_type": "code",
   "execution_count": 8,
   "metadata": {},
   "outputs": [
    {
     "name": "stderr",
     "output_type": "stream",
     "text": [
      "/home/codespace/.python/current/lib/python3.10/site-packages/huggingface_hub/file_download.py:1132: FutureWarning: `resume_download` is deprecated and will be removed in version 1.0.0. Downloads always resume when possible. If you want to force a new download, use `force_download=True`.\n",
      "  warnings.warn(\n"
     ]
    }
   ],
   "source": [
    "embeddings = HuggingFaceEmbeddings()"
   ]
  },
  {
   "cell_type": "code",
   "execution_count": 9,
   "metadata": {},
   "outputs": [],
   "source": [
    "vector_store = FAISS.from_documents(\n",
    "    file_texts,\n",
    "    embedding=embeddings\n",
    ")"
   ]
  },
  {
   "cell_type": "code",
   "execution_count": 10,
   "metadata": {},
   "outputs": [
    {
     "data": {
      "text/plain": [
       "543"
      ]
     },
     "execution_count": 10,
     "metadata": {},
     "output_type": "execute_result"
    }
   ],
   "source": [
    "len(file_texts)"
   ]
  },
  {
   "cell_type": "markdown",
   "metadata": {},
   "source": [
    "# Search the Data"
   ]
  },
  {
   "cell_type": "code",
   "execution_count": 11,
   "metadata": {},
   "outputs": [],
   "source": [
    "from langchain_community.chat_models.octoai import ChatOctoAI\n",
    "\n",
    "llm = ChatOctoAI(\n",
    "        model_name= \"meta-llama-3.1-8b-instruct\",\n",
    "        max_tokens=2000,\n",
    "        temperature=0.0,\n",
    "        model_kwargs={\n",
    "            \"presence_penalty\": 0,\n",
    "            \"top_p\": 0.9\n",
    "        }\n",
    "    )"
   ]
  },
  {
   "cell_type": "code",
   "execution_count": 12,
   "metadata": {},
   "outputs": [],
   "source": [
    "retriever = vector_store.as_retriever()"
   ]
  },
  {
   "cell_type": "code",
   "execution_count": 13,
   "metadata": {},
   "outputs": [],
   "source": [
    "from langchain.prompts import ChatPromptTemplate\n",
    "template=\"\"\"You are a helpful tour guide. Use the following pieces of retrieved context to answer the question. If you don't know the answer, just say that you don't know. Use three sentences maximum and keep the answer concise.\n",
    "Question: {question} \n",
    "Context: {context} \n",
    "Answer:\"\"\"\n",
    "prompt = ChatPromptTemplate.from_template(template)"
   ]
  },
  {
   "cell_type": "code",
   "execution_count": 14,
   "metadata": {},
   "outputs": [
    {
     "name": "stdout",
     "output_type": "stream",
     "text": [
      "input_variables=['context', 'question'] messages=[HumanMessagePromptTemplate(prompt=PromptTemplate(input_variables=['context', 'question'], template=\"You are a helpful tour guide. Use the following pieces of retrieved context to answer the question. If you don't know the answer, just say that you don't know. Use three sentences maximum and keep the answer concise.\\nQuestion: {question} \\nContext: {context} \\nAnswer:\"))]\n"
     ]
    }
   ],
   "source": [
    "print(prompt)"
   ]
  },
  {
   "cell_type": "code",
   "execution_count": 15,
   "metadata": {},
   "outputs": [],
   "source": [
    "from langchain_core.runnables import RunnablePassthrough\n",
    "from langchain_core.output_parsers import StrOutputParser\n",
    "chain = (\n",
    "    {\"context\": retriever, \"question\": RunnablePassthrough()}\n",
    "    | prompt\n",
    "    | llm\n",
    "    | StrOutputParser()\n",
    ")"
   ]
  },
  {
   "cell_type": "code",
   "execution_count": 16,
   "metadata": {},
   "outputs": [
    {
     "data": {
      "text/plain": [
       "['List the cities from oldest to youngest: Paris, Berlin, San Francisco.',\n",
       " 'Which historical monuments should I visit in Cairo?',\n",
       " 'Is Chicago more or less populated than New York?',\n",
       " 'Compare and contrast night life in Houston and Moscow.',\n",
       " 'Which city has a more active tech scene? San Francisco or Lisbon?',\n",
       " 'Which city has a more active financial sector? London or Boston?',\n",
       " 'Where is the Eiffel Tower located?',\n",
       " 'When should I visit the Empire State Building in Houston?',\n",
       " 'Who is Yujian Tang?']"
      ]
     },
     "execution_count": 16,
     "metadata": {},
     "output_type": "execute_result"
    }
   ],
   "source": [
    "with open(\"test_qs.txt\", \"r\") as f:\n",
    "    qs = f.read().splitlines()\n",
    "qs"
   ]
  },
  {
   "cell_type": "code",
   "execution_count": 17,
   "metadata": {},
   "outputs": [],
   "source": [
    "responses = []\n",
    "for q in qs:\n",
    "    res = chain.invoke(q)\n",
    "    responses.append(res)"
   ]
  },
  {
   "cell_type": "markdown",
   "metadata": {},
   "source": [
    "# Run Evals"
   ]
  },
  {
   "cell_type": "code",
   "execution_count": 18,
   "metadata": {},
   "outputs": [],
   "source": [
    "from phoenix.evals import (\n",
    "    HallucinationEvaluator,\n",
    "    OpenAIModel,\n",
    "    QAEvaluator,\n",
    "    RelevanceEvaluator,\n",
    "    run_evals,\n",
    ")\n",
    "from phoenix.session.evaluation import get_qa_with_reference, get_retrieved_documents\n",
    "from phoenix.trace import DocumentEvaluations, SpanEvaluations"
   ]
  },
  {
   "cell_type": "code",
   "execution_count": 19,
   "metadata": {},
   "outputs": [],
   "source": [
    "queries_df = get_qa_with_reference(px.Client())\n",
    "retrieved_documents_df = get_retrieved_documents(px.Client())"
   ]
  },
  {
   "cell_type": "code",
   "execution_count": 20,
   "metadata": {},
   "outputs": [
    {
     "name": "stderr",
     "output_type": "stream",
     "text": [
      "run_evals |██████████| 16/16 (100.0%) | ⏳ 01:24<00:00 |  5.26s/it\n",
      "run_evals |██████████| 36/36 (100.0%) | ⏳ 01:42<00:00 |  2.85s/it\n"
     ]
    },
    {
     "name": "stdout",
     "output_type": "stream",
     "text": [
      "💾 Trace dataset saved to under ID: 9f817ea5-e554-44bf-9134-cedbd23c12ad\n",
      "📂 Trace dataset path: /home/codespace/.phoenix/trace_datasets/trace_dataset-9f817ea5-e554-44bf-9134-cedbd23c12ad.parquet\n"
     ]
    }
   ],
   "source": [
    "import nest_asyncio\n",
    "nest_asyncio.apply()\n",
    "\n",
    "eval_model = OpenAIModel(\n",
    "    model=\"gpt-4-turbo\",\n",
    ")\n",
    "hallucination_evaluator = HallucinationEvaluator(eval_model)\n",
    "qa_correctness_evaluator = QAEvaluator(eval_model)\n",
    "relevance_evaluator = RelevanceEvaluator(eval_model)\n",
    "\n",
    "hallucination_eval_df, qa_correctness_eval_df = run_evals(\n",
    "    dataframe=queries_df,\n",
    "    evaluators=[hallucination_evaluator, qa_correctness_evaluator],\n",
    "    provide_explanation=True,\n",
    ")\n",
    "relevance_eval_df = run_evals(\n",
    "    dataframe=retrieved_documents_df,\n",
    "    evaluators=[relevance_evaluator],\n",
    "    provide_explanation=True,\n",
    ")[0]\n",
    "\n",
    "px.Client().log_evaluations(\n",
    "    SpanEvaluations(eval_name=\"Hallucination\", dataframe=hallucination_eval_df),\n",
    "    SpanEvaluations(eval_name=\"QA Correctness\", dataframe=qa_correctness_eval_df),\n",
    "    DocumentEvaluations(eval_name=\"Relevance\", dataframe=relevance_eval_df),\n",
    ")\n",
    "trace_id = px.Client().get_trace_dataset().save()"
   ]
  },
  {
   "cell_type": "markdown",
   "metadata": {},
   "source": [
    "First example\n",
    "\n",
    "💾 Trace dataset saved to under ID: 5f612e9f-e796-469d-8a5c-16aa2ea234c8\n",
    "\n",
    "📂 Trace dataset path: /Users/yujian/.phoenix/trace_datasets/trace_dataset-5f612e9f-e796-469d-8a5c-16aa2ea234c8.parquet\n"
   ]
  },
  {
   "cell_type": "code",
   "execution_count": null,
   "metadata": {},
   "outputs": [],
   "source": []
  }
 ],
 "metadata": {
  "kernelspec": {
   "display_name": "p310",
   "language": "python",
   "name": "python3"
  },
  "language_info": {
   "codemirror_mode": {
    "name": "ipython",
    "version": 3
   },
   "file_extension": ".py",
   "mimetype": "text/x-python",
   "name": "python",
   "nbconvert_exporter": "python",
   "pygments_lexer": "ipython3",
   "version": "3.10.13"
  }
 },
 "nbformat": 4,
 "nbformat_minor": 2
}
